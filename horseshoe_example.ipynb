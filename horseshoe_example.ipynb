{
 "cells": [
  {
   "cell_type": "markdown",
   "metadata": {},
   "source": [
    "# Bayesian Variable Selection with Horseshoe Priors\n",
    "\n",
    "This notebook demonstrates how to use the `BayesianHorseshoe` package to perform variable selection using Horseshoe Priors on synthetic data. \n",
    "\n",
    "**Workflow:**\n",
    "- **Data Simulation:** Generate synthetic regression data with a sparse true coefficient vector.\n",
    "- **Model Specification:** Build a Bayesian linear regression model with Horseshoe Priors.\n",
    "- **Inference:** Run MCMC sampling to obtain posterior estimates.\n",
    "- **Diagnostics & Visualization:** Plot trace plots and compute effective sample sizes.\n",
    "\n",
    "Let's get started!"
   ]
  },
  {
   "cell_type": "code",
   "execution_count": 4,
   "metadata": {},
   "outputs": [
    {
     "ename": "ModuleNotFoundError",
     "evalue": "No module named 'pymc3'",
     "output_type": "error",
     "traceback": [
      "\u001b[1;31m---------------------------------------------------------------------------\u001b[0m",
      "\u001b[1;31mModuleNotFoundError\u001b[0m                       Traceback (most recent call last)",
      "Cell \u001b[1;32mIn[4], line 3\u001b[0m\n\u001b[0;32m      1\u001b[0m \u001b[39m# Import necessary modules from our package\u001b[39;00m\n\u001b[0;32m      2\u001b[0m \u001b[39mfrom\u001b[39;00m\u001b[39m \u001b[39m\u001b[39mbayesian_horseshoe\u001b[39;00m\u001b[39m.\u001b[39;00m\u001b[39mdata\u001b[39;00m\u001b[39m \u001b[39m\u001b[39mimport\u001b[39;00m simulate_data\n\u001b[1;32m----> 3\u001b[0m \u001b[39mfrom\u001b[39;00m\u001b[39m \u001b[39m\u001b[39mbayesian_horseshoe\u001b[39;00m\u001b[39m.\u001b[39;00m\u001b[39mmodel\u001b[39;00m\u001b[39m \u001b[39m\u001b[39mimport\u001b[39;00m build_horseshoe_model\n\u001b[0;32m      4\u001b[0m \u001b[39mfrom\u001b[39;00m\u001b[39m \u001b[39m\u001b[39mbayesian_horseshoe\u001b[39;00m\u001b[39m.\u001b[39;00m\u001b[39minference\u001b[39;00m\u001b[39m \u001b[39m\u001b[39mimport\u001b[39;00m run_mcmc\n\u001b[0;32m      5\u001b[0m \u001b[39mfrom\u001b[39;00m\u001b[39m \u001b[39m\u001b[39mbayesian_horseshoe\u001b[39;00m\u001b[39m.\u001b[39;00m\u001b[39mdiagnostics\u001b[39;00m\u001b[39m \u001b[39m\u001b[39mimport\u001b[39;00m plot_trace, effective_sample_size\n",
      "File \u001b[1;32mc:\\Users\\byunbeee\\Desktop\\BayesianHorseshoe\\bayesian_horseshoe\\__init__.py:18\u001b[0m\n\u001b[0;32m     15\u001b[0m __author__ \u001b[39m=\u001b[39m \u001b[39m\"\u001b[39m\u001b[39mHyun Wook Sim\u001b[39m\u001b[39m\"\u001b[39m  \n\u001b[0;32m     17\u001b[0m \u001b[39mfrom\u001b[39;00m\u001b[39m \u001b[39m\u001b[39m.\u001b[39;00m\u001b[39m \u001b[39m\u001b[39mimport\u001b[39;00m data\n\u001b[1;32m---> 18\u001b[0m \u001b[39mfrom\u001b[39;00m\u001b[39m \u001b[39m\u001b[39m.\u001b[39;00m\u001b[39m \u001b[39m\u001b[39mimport\u001b[39;00m model\n\u001b[0;32m     19\u001b[0m \u001b[39mfrom\u001b[39;00m\u001b[39m \u001b[39m\u001b[39m.\u001b[39;00m\u001b[39m \u001b[39m\u001b[39mimport\u001b[39;00m inference\n\u001b[0;32m     20\u001b[0m \u001b[39mfrom\u001b[39;00m\u001b[39m \u001b[39m\u001b[39m.\u001b[39;00m\u001b[39m \u001b[39m\u001b[39mimport\u001b[39;00m diagnostics\n",
      "File \u001b[1;32mc:\\Users\\byunbeee\\Desktop\\BayesianHorseshoe\\bayesian_horseshoe\\model.py:1\u001b[0m\n\u001b[1;32m----> 1\u001b[0m \u001b[39mimport\u001b[39;00m\u001b[39m \u001b[39m\u001b[39mpymc3\u001b[39;00m\u001b[39m \u001b[39m\u001b[39mas\u001b[39;00m\u001b[39m \u001b[39m\u001b[39mpm\u001b[39;00m\n\u001b[0;32m      2\u001b[0m \u001b[39mimport\u001b[39;00m\u001b[39m \u001b[39m\u001b[39mnumpy\u001b[39;00m\u001b[39m \u001b[39m\u001b[39mas\u001b[39;00m\u001b[39m \u001b[39m\u001b[39mnp\u001b[39;00m\n\u001b[0;32m      4\u001b[0m \u001b[39mdef\u001b[39;00m\u001b[39m \u001b[39m\u001b[39mbuild_horseshoe_model\u001b[39m(X, y):\n",
      "\u001b[1;31mModuleNotFoundError\u001b[0m: No module named 'pymc3'"
     ]
    }
   ],
   "source": [
    "# Import necessary modules from our package\n",
    "from bayesian_horseshoe.data import simulate_data\n",
    "from bayesian_horseshoe.model import build_horseshoe_model\n",
    "from bayesian_horseshoe.inference import run_mcmc\n",
    "from bayesian_horseshoe.diagnostics import plot_trace, effective_sample_size\n",
    "\n",
    "# Additionally import PyMC3 for summary, if needed\n",
    "import pymc3 as pm"
   ]
  },
  {
   "cell_type": "code",
   "execution_count": null,
   "metadata": {},
   "outputs": [],
   "source": [
    "# Generate synthetic data for the regression model\n",
    "n, p, n_relevant = 100, 50, 5  # Adjust as needed\n",
    "X, y, true_beta = simulate_data(n=n, p=p, n_relevant=n_relevant, noise_std=0.5, seed=42)\n",
    "\n",
    "print(\"Shape of X:\", X.shape)\n",
    "print(\"Shape of y:\", y.shape)\n",
    "print(\"True coefficients (non-zero values indicate relevant predictors):\")\n",
    "print(true_beta)"
   ]
  },
  {
   "cell_type": "code",
   "execution_count": null,
   "metadata": {},
   "outputs": [],
   "source": [
    "# Build the Bayesian linear regression model with Horseshoe Prior\n",
    "model = build_horseshoe_model(X, y)\n",
    "\n",
    "# Optionally, display the model structure\n",
    "print(\"Horseshoe model created successfully!\")"
   ]
  },
  {
   "cell_type": "code",
   "execution_count": null,
   "metadata": {},
   "outputs": [],
   "source": [
    "# Run MCMC sampling using the model\n",
    "print(\"Starting MCMC sampling...\")\n",
    "trace = run_mcmc(model, draws=2000, tune=1000, target_accept=0.9, cores=1)\n",
    "print(\"MCMC sampling completed.\")\n",
    "\n",
    "# Display a summary of the posterior samples for the regression coefficients\n",
    "summary = pm.summary(trace, var_names=[\"beta\"])\n",
    "print(summary)"
   ]
  },
  {
   "cell_type": "code",
   "execution_count": null,
   "metadata": {},
   "outputs": [],
   "source": [
    "# Plot trace plots for the regression coefficients (\"beta\")\n",
    "print(\"Plotting trace plots for 'beta' parameters...\")\n",
    "plot_trace(trace, var_names=[\"beta\"])\n",
    "\n",
    "# Compute and display effective sample sizes for \"beta\"\n",
    "ess = effective_sample_size(trace, var_names=[\"beta\"])\n",
    "print(\"Effective sample sizes for 'beta':\")\n",
    "for param, neff in ess.items():\n",
    "    print(f\"{param}: {neff}\")"
   ]
  },
  {
   "cell_type": "markdown",
   "metadata": {},
   "source": [
    "## Conclusion\n",
    "\n",
    "In this notebook, we:\n",
    "- Generated synthetic data for a high-dimensional regression problem.\n",
    "- Built a Bayesian model with Horseshoe Priors to perform variable selection.\n",
    "- Ran MCMC sampling to infer the posterior distributions.\n",
    "- Visualized the results and computed diagnostics to assess model convergence.\n",
    "\n",
    "This demonstrates the power of Bayesian variable selection using Horseshoe Priors for identifying relevant predictors in complex datasets.\n",
    "\n",
    "Feel free to experiment further by modifying parameters or extending the diagnostics!"
   ]
  }
 ],
 "metadata": {
  "kernelspec": {
   "display_name": "Python 3",
   "language": "python",
   "name": "python3"
  },
  "language_info": {
   "codemirror_mode": {
    "name": "ipython",
    "version": 3
   },
   "file_extension": ".py",
   "mimetype": "text/x-python",
   "name": "python",
   "nbconvert_exporter": "python",
   "pygments_lexer": "ipython3",
   "version": "3.9.1"
  },
  "orig_nbformat": 4
 },
 "nbformat": 4,
 "nbformat_minor": 2
}
